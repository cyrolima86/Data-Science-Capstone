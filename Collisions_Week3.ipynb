{
 "cells": [
  {
   "cell_type": "markdown",
   "metadata": {},
   "source": [
    "# Data Science Capstone - Collisions Assessment Methodology"
   ]
  },
  {
   "cell_type": "markdown",
   "metadata": {},
   "source": [
    "## Table of contents\n",
    "* [Introduction: Business Problem](#introduction)\n",
    "* [Data](#data)\n",
    "* [Methodology](#methodology)\n",
    "* [Analysis](#analysis)\n",
    "* [Results and Discussion](#results)\n",
    "* [Conclusion](#conclusion)"
   ]
  },
  {
   "cell_type": "markdown",
   "metadata": {},
   "source": [
    "### 1. Introduction <a name=\"introduction\"></a>\n",
    "\n",
    "This notebook will describe the methodology to assess collisions data obtained from Seattle city, wich are data provided by SPD and recorded by traffic records, including all types of collisions, displayed at the intersection or mid-bloc of a segment, since 2004.\n",
    "\n",
    "The problem consists in correctly assess a driver that wants to know the probability of get involved in an accident, based on weather conditions, road conditions and the previous history of that highway/road segment, allowing him to drive more carefully or even change course if needed.\n",
    "\n",
    "The goal of this work is to analyze data in order to provide a model that will predict the severity of an accident/collision, given a number of features that will be extracted from the data. The model will classify and predict severity, so a driver can use this model to change course or drive more carefully, given that he isn't want to get involved into an accident, since the consequences can be unpredictable.\n",
    "\n"
   ]
  },
  {
   "cell_type": "markdown",
   "metadata": {},
   "source": [
    "### 2. Data description <a name=\"data\"></a>"
   ]
  },
  {
   "cell_type": "markdown",
   "metadata": {},
   "source": [
    "2.1 Imports needed"
   ]
  },
  {
   "cell_type": "code",
   "execution_count": 1,
   "metadata": {},
   "outputs": [],
   "source": [
    "import pandas as pd\n",
    "import numpy as np\n",
    "import matplotlib.pyplot as plt\n",
    "import seaborn as sns\n",
    "sns.set(style=\"darkgrid\")\n",
    "sns.set(rc={'figure.figsize':(10,6)})\n",
    "%matplotlib inline"
   ]
  },
  {
   "cell_type": "markdown",
   "metadata": {},
   "source": [
    "2.2 Exploratory data analysis"
   ]
  },
  {
   "cell_type": "code",
   "execution_count": 2,
   "metadata": {},
   "outputs": [
    {
     "name": "stderr",
     "output_type": "stream",
     "text": [
      "C:\\Python\\Anaconda3\\lib\\site-packages\\IPython\\core\\interactiveshell.py:3146: DtypeWarning: Columns (33) have mixed types.Specify dtype option on import or set low_memory=False.\n",
      "  interactivity=interactivity, compiler=compiler, result=result)\n"
     ]
    }
   ],
   "source": [
    "raw = pd.read_csv('Data-Collisions.csv')"
   ]
  },
  {
   "cell_type": "code",
   "execution_count": 3,
   "metadata": {},
   "outputs": [],
   "source": [
    "# Drop unmatched collisions, 2,5% of rows\n",
    "raw.drop(raw[raw['STATUS']!='Matched'].index, inplace = True)"
   ]
  },
  {
   "cell_type": "code",
   "execution_count": 4,
   "metadata": {},
   "outputs": [],
   "source": [
    "# Discarding non critical data \n",
    "raw.drop(columns=['INCKEY','INTKEY','COLDETKEY','INATTENTIONIND','LOCATION'],inplace=True)\n",
    "raw.drop(columns=['ST_COLCODE','PERSONCOUNT', 'PEDCOUNT','PEDCYLCOUNT','VEHCOUNT','OBJECTID'], inplace=True)\n",
    "raw.drop(columns=['REPORTNO','PEDROWNOTGRNT','HITPARKEDCAR','SEGLANEKEY','CROSSWALKKEY'],inplace=True)\n",
    "raw.drop(columns=['SEVERITYDESC','COLLISIONTYPE','JUNCTIONTYPE','ST_COLDESC','SEVERITYCODE.1'], inplace=True)\n",
    "raw.drop(columns=['STATUS','EXCEPTRSNCODE','EXCEPTRSNDESC','SDOTCOLNUM','UNDERINFL','SPEEDING'], inplace=True)"
   ]
  },
  {
   "cell_type": "code",
   "execution_count": 5,
   "metadata": {},
   "outputs": [],
   "source": [
    "# Dropping where lat or long is null\n",
    "raw.drop(raw[raw['X'].isnull()].index, inplace=True)"
   ]
  },
  {
   "cell_type": "code",
   "execution_count": 6,
   "metadata": {},
   "outputs": [],
   "source": [
    "# Nan replacement\n",
    "raw['WEATHER'].fillna('Other', inplace=True)\n",
    "raw['ROADCOND'].fillna('Other', inplace=True)\n",
    "raw['LIGHTCOND'].fillna('Other', inplace=True)\n",
    "raw['SDOT_COLCODE'].fillna(0, inplace=True)"
   ]
  },
  {
   "cell_type": "code",
   "execution_count": 7,
   "metadata": {},
   "outputs": [],
   "source": [
    "# Data conversions\n",
    "raw['SDOT_COLCODE'] = pd.to_numeric(raw['SDOT_COLCODE'])\n",
    "raw['INCDATE'] = pd.to_datetime(raw['INCDATE'])\n",
    "raw['INCDTTM'] = pd.to_datetime(raw['INCDTTM'])\n",
    "raw['WEEKDAY'] = raw['INCDATE'].apply(lambda x: x.weekday())\n",
    "raw.drop(columns=['INCDATE'],inplace=True)\n",
    "\n",
    "raw['INCDTTM'] = (raw['INCDTTM'].dt.hour % 24 + 4) // 4\n",
    "raw['INCDTTM'].replace({1: 'Late Night',\n",
    "                      2: 'Early Morning',\n",
    "                      3: 'Morning',\n",
    "                      4: 'Noon',\n",
    "                      5: 'Evening',\n",
    "                      6: 'Night'}, inplace=True)"
   ]
  },
  {
   "cell_type": "code",
   "execution_count": 8,
   "metadata": {},
   "outputs": [],
   "source": [
    "# Converting 'Unknown' to 'Other' \n",
    "raw['WEATHER'].replace(to_replace='Unknown',value='Other', inplace=True)\n",
    "raw['ROADCOND'].replace(to_replace='Unknown',value='Other', inplace=True)\n",
    "raw['LIGHTCOND'].replace(to_replace='Unknown',value='Other', inplace=True)"
   ]
  },
  {
   "cell_type": "code",
   "execution_count": 9,
   "metadata": {},
   "outputs": [],
   "source": [
    "# Dropping Other data to reduce noise\n",
    "#lightcond = raw[raw['LIGHTCOND']=='Other'].index\n",
    "#raw.drop(lightcond, inplace=True)\n",
    "#weathercond = raw[raw['WEATHER']=='Other'].index\n",
    "#raw.drop(weathercond, inplace=True)\n",
    "#roadcond = raw[raw['ROADCOND']=='Other'].index\n",
    "#raw.drop(roadcond, inplace=True)"
   ]
  },
  {
   "cell_type": "code",
   "execution_count": 10,
   "metadata": {},
   "outputs": [],
   "source": [
    "raw['WEATHER'].replace(to_replace='Unknown',value='Other', inplace=True)"
   ]
  },
  {
   "cell_type": "code",
   "execution_count": 11,
   "metadata": {},
   "outputs": [],
   "source": [
    "# Dealing with weather conditions that are less frequent\n",
    "raw['WEATHER'].replace(to_replace='Sleet/Hail/Freezing Rain',value='Raining', inplace=True)\n",
    "raw['WEATHER'].replace(to_replace='Sleet/Hail/Freezing Rain',value='Raining', inplace=True)\n",
    "raw['WEATHER'].replace(to_replace='Blowing Sand/Dirt',value='Other', inplace=True)\n",
    "raw['WEATHER'].replace(to_replace='Severe Crosswind',value='Other', inplace=True)\n",
    "raw['WEATHER'].replace(to_replace='Partly Cloudy',value='Other', inplace=True)\n",
    "\n",
    "# Dealing with road conditions that are less frequent\n",
    "raw['ROADCOND'].replace(to_replace='Ice',value='Ice/Snow', inplace=True)\n",
    "raw['ROADCOND'].replace(to_replace='Snow/Slush',value='Ice/Snow', inplace=True)\n",
    "raw['ROADCOND'].replace(to_replace='Standing Water',value='Wet', inplace=True)\n",
    "raw['ROADCOND'].replace(to_replace='Sand/Mud/Dirt',value='Other', inplace=True)\n",
    "raw['ROADCOND'].replace(to_replace='Oil',value='Other', inplace=True)\n",
    "\n",
    "# Dealing with light conditions that are less frequent\n",
    "raw['LIGHTCOND'].replace(to_replace='Dark - Street Lights On',value='Dark', inplace=True)\n",
    "raw['LIGHTCOND'].replace(to_replace='Dark - No Street Lights',value='Dark', inplace=True)\n",
    "raw['LIGHTCOND'].replace(to_replace='Dark - Street Lights Off',value='Dark', inplace=True)\n",
    "raw['LIGHTCOND'].replace(to_replace='Dark - Unknown Lighting',value='Dark', inplace=True)"
   ]
  },
  {
   "cell_type": "code",
   "execution_count": 12,
   "metadata": {},
   "outputs": [],
   "source": [
    "# Dealing with ST COLCODE \n",
    "raw['SDOT_COLCODE'].replace(to_replace=0,value='Not Applicable', inplace=True)\n",
    "raw['SDOT_COLCODE'].replace(to_replace=[11,12,13,14,15,16,17],value='Vehicle-Vehicle', inplace=True)\n",
    "raw['SDOT_COLCODE'].replace(to_replace=[18,21,22,23,51,52,53,54,55,56,58],value='Vehicle-Pedalcyclist', inplace=True)\n",
    "raw['SDOT_COLCODE'].replace(to_replace=24,value='Vehicle-Pedestrian', inplace=True)\n",
    "raw['SDOT_COLCODE'].replace(to_replace=25,value='Vehicle-Train', inplace=True)\n",
    "raw['SDOT_COLCODE'].replace(to_replace=26,value='Vehicle-object', inplace=True)\n",
    "raw['SDOT_COLCODE'].replace(to_replace=27,value='Ran off road', inplace=True)\n",
    "raw['SDOT_COLCODE'].replace(to_replace=28,value='Ran off road-collided', inplace=True)\n",
    "raw['SDOT_COLCODE'].replace(to_replace=29,value='Overturned', inplace=True)\n",
    "raw['SDOT_COLCODE'].replace(to_replace=[31,32,33,34,35,36,44,46,47,48],value='Driverless', inplace=True)\n",
    "raw['SDOT_COLCODE'].replace(to_replace=[61,64,66,68,69],value='Pedalcyclist involved', inplace=True)"
   ]
  },
  {
   "cell_type": "code",
   "execution_count": 13,
   "metadata": {},
   "outputs": [],
   "source": [
    "raw.drop(columns=['SDOT_COLDESC'],inplace=True)"
   ]
  },
  {
   "cell_type": "code",
   "execution_count": 14,
   "metadata": {},
   "outputs": [],
   "source": [
    "collisions = pd.DataFrame(raw)"
   ]
  },
  {
   "cell_type": "code",
   "execution_count": 15,
   "metadata": {},
   "outputs": [
    {
     "data": {
      "text/html": [
       "<div>\n",
       "<style scoped>\n",
       "    .dataframe tbody tr th:only-of-type {\n",
       "        vertical-align: middle;\n",
       "    }\n",
       "\n",
       "    .dataframe tbody tr th {\n",
       "        vertical-align: top;\n",
       "    }\n",
       "\n",
       "    .dataframe thead th {\n",
       "        text-align: right;\n",
       "    }\n",
       "</style>\n",
       "<table border=\"1\" class=\"dataframe\">\n",
       "  <thead>\n",
       "    <tr style=\"text-align: right;\">\n",
       "      <th></th>\n",
       "      <th>SEVERITYCODE</th>\n",
       "      <th>X</th>\n",
       "      <th>Y</th>\n",
       "      <th>ADDRTYPE</th>\n",
       "      <th>INCDTTM</th>\n",
       "      <th>SDOT_COLCODE</th>\n",
       "      <th>WEATHER</th>\n",
       "      <th>ROADCOND</th>\n",
       "      <th>LIGHTCOND</th>\n",
       "      <th>WEEKDAY</th>\n",
       "    </tr>\n",
       "  </thead>\n",
       "  <tbody>\n",
       "    <tr>\n",
       "      <th>0</th>\n",
       "      <td>2</td>\n",
       "      <td>-122.323148</td>\n",
       "      <td>47.703140</td>\n",
       "      <td>Intersection</td>\n",
       "      <td>Noon</td>\n",
       "      <td>Vehicle-Vehicle</td>\n",
       "      <td>Overcast</td>\n",
       "      <td>Wet</td>\n",
       "      <td>Daylight</td>\n",
       "      <td>2</td>\n",
       "    </tr>\n",
       "    <tr>\n",
       "      <th>1</th>\n",
       "      <td>1</td>\n",
       "      <td>-122.347294</td>\n",
       "      <td>47.647172</td>\n",
       "      <td>Block</td>\n",
       "      <td>Evening</td>\n",
       "      <td>Vehicle-Vehicle</td>\n",
       "      <td>Raining</td>\n",
       "      <td>Wet</td>\n",
       "      <td>Dark</td>\n",
       "      <td>2</td>\n",
       "    </tr>\n",
       "    <tr>\n",
       "      <th>2</th>\n",
       "      <td>1</td>\n",
       "      <td>-122.334540</td>\n",
       "      <td>47.607871</td>\n",
       "      <td>Block</td>\n",
       "      <td>Morning</td>\n",
       "      <td>Vehicle-Vehicle</td>\n",
       "      <td>Overcast</td>\n",
       "      <td>Dry</td>\n",
       "      <td>Daylight</td>\n",
       "      <td>3</td>\n",
       "    </tr>\n",
       "    <tr>\n",
       "      <th>3</th>\n",
       "      <td>1</td>\n",
       "      <td>-122.334803</td>\n",
       "      <td>47.604803</td>\n",
       "      <td>Block</td>\n",
       "      <td>Morning</td>\n",
       "      <td>Vehicle-Vehicle</td>\n",
       "      <td>Clear</td>\n",
       "      <td>Dry</td>\n",
       "      <td>Daylight</td>\n",
       "      <td>4</td>\n",
       "    </tr>\n",
       "    <tr>\n",
       "      <th>4</th>\n",
       "      <td>2</td>\n",
       "      <td>-122.306426</td>\n",
       "      <td>47.545739</td>\n",
       "      <td>Intersection</td>\n",
       "      <td>Morning</td>\n",
       "      <td>Vehicle-Vehicle</td>\n",
       "      <td>Raining</td>\n",
       "      <td>Wet</td>\n",
       "      <td>Daylight</td>\n",
       "      <td>2</td>\n",
       "    </tr>\n",
       "  </tbody>\n",
       "</table>\n",
       "</div>"
      ],
      "text/plain": [
       "   SEVERITYCODE           X          Y      ADDRTYPE  INCDTTM  \\\n",
       "0             2 -122.323148  47.703140  Intersection     Noon   \n",
       "1             1 -122.347294  47.647172         Block  Evening   \n",
       "2             1 -122.334540  47.607871         Block  Morning   \n",
       "3             1 -122.334803  47.604803         Block  Morning   \n",
       "4             2 -122.306426  47.545739  Intersection  Morning   \n",
       "\n",
       "      SDOT_COLCODE   WEATHER ROADCOND LIGHTCOND  WEEKDAY  \n",
       "0  Vehicle-Vehicle  Overcast      Wet  Daylight        2  \n",
       "1  Vehicle-Vehicle   Raining      Wet      Dark        2  \n",
       "2  Vehicle-Vehicle  Overcast      Dry  Daylight        3  \n",
       "3  Vehicle-Vehicle     Clear      Dry  Daylight        4  \n",
       "4  Vehicle-Vehicle   Raining      Wet  Daylight        2  "
      ]
     },
     "execution_count": 15,
     "metadata": {},
     "output_type": "execute_result"
    }
   ],
   "source": [
    "collisions.head()"
   ]
  },
  {
   "cell_type": "markdown",
   "metadata": {},
   "source": [
    "### 3. Methodology <a name=\"methodology\"></a>"
   ]
  },
  {
   "cell_type": "markdown",
   "metadata": {},
   "source": [
    "3.1 Explore data"
   ]
  },
  {
   "cell_type": "code",
   "execution_count": 16,
   "metadata": {},
   "outputs": [
    {
     "data": {
      "text/html": [
       "<div>\n",
       "<style scoped>\n",
       "    .dataframe tbody tr th:only-of-type {\n",
       "        vertical-align: middle;\n",
       "    }\n",
       "\n",
       "    .dataframe tbody tr th {\n",
       "        vertical-align: top;\n",
       "    }\n",
       "\n",
       "    .dataframe thead th {\n",
       "        text-align: right;\n",
       "    }\n",
       "</style>\n",
       "<table border=\"1\" class=\"dataframe\">\n",
       "  <thead>\n",
       "    <tr style=\"text-align: right;\">\n",
       "      <th></th>\n",
       "      <th>WEATHER</th>\n",
       "    </tr>\n",
       "  </thead>\n",
       "  <tbody>\n",
       "    <tr>\n",
       "      <th>Clear</th>\n",
       "      <td>59.024057</td>\n",
       "    </tr>\n",
       "    <tr>\n",
       "      <th>Raining</th>\n",
       "      <td>17.402939</td>\n",
       "    </tr>\n",
       "    <tr>\n",
       "      <th>Overcast</th>\n",
       "      <td>14.699812</td>\n",
       "    </tr>\n",
       "    <tr>\n",
       "      <th>Other</th>\n",
       "      <td>8.089339</td>\n",
       "    </tr>\n",
       "    <tr>\n",
       "      <th>Snowing</th>\n",
       "      <td>0.484288</td>\n",
       "    </tr>\n",
       "    <tr>\n",
       "      <th>Fog/Smog/Smoke</th>\n",
       "      <td>0.299565</td>\n",
       "    </tr>\n",
       "  </tbody>\n",
       "</table>\n",
       "</div>"
      ],
      "text/plain": [
       "                  WEATHER\n",
       "Clear           59.024057\n",
       "Raining         17.402939\n",
       "Overcast        14.699812\n",
       "Other            8.089339\n",
       "Snowing          0.484288\n",
       "Fog/Smog/Smoke   0.299565"
      ]
     },
     "execution_count": 16,
     "metadata": {},
     "output_type": "execute_result"
    }
   ],
   "source": [
    "perc_weather = pd.DataFrame(collisions['WEATHER'].value_counts()/len(collisions)*100)\n",
    "perc_weather"
   ]
  },
  {
   "cell_type": "markdown",
   "metadata": {},
   "source": [
    "We can see that a large number of collisions occurs at Daylight, Dry roads, at mid road and at intersections and with clear weather."
   ]
  },
  {
   "cell_type": "code",
   "execution_count": 17,
   "metadata": {},
   "outputs": [
    {
     "data": {
      "text/html": [
       "<div>\n",
       "<style scoped>\n",
       "    .dataframe tbody tr th:only-of-type {\n",
       "        vertical-align: middle;\n",
       "    }\n",
       "\n",
       "    .dataframe tbody tr th {\n",
       "        vertical-align: top;\n",
       "    }\n",
       "\n",
       "    .dataframe thead th {\n",
       "        text-align: right;\n",
       "    }\n",
       "</style>\n",
       "<table border=\"1\" class=\"dataframe\">\n",
       "  <thead>\n",
       "    <tr style=\"text-align: right;\">\n",
       "      <th></th>\n",
       "      <th>ROADCOND</th>\n",
       "    </tr>\n",
       "  </thead>\n",
       "  <tbody>\n",
       "    <tr>\n",
       "      <th>Dry</th>\n",
       "      <td>66.129653</td>\n",
       "    </tr>\n",
       "    <tr>\n",
       "      <th>Wet</th>\n",
       "      <td>25.007990</td>\n",
       "    </tr>\n",
       "    <tr>\n",
       "      <th>Other</th>\n",
       "      <td>7.689016</td>\n",
       "    </tr>\n",
       "    <tr>\n",
       "      <th>Ice/Snow</th>\n",
       "      <td>1.173341</td>\n",
       "    </tr>\n",
       "  </tbody>\n",
       "</table>\n",
       "</div>"
      ],
      "text/plain": [
       "           ROADCOND\n",
       "Dry       66.129653\n",
       "Wet       25.007990\n",
       "Other      7.689016\n",
       "Ice/Snow   1.173341"
      ]
     },
     "execution_count": 17,
     "metadata": {},
     "output_type": "execute_result"
    }
   ],
   "source": [
    "perc_roadcond = pd.DataFrame(collisions['ROADCOND'].value_counts()/len(collisions)*100)\n",
    "perc_roadcond"
   ]
  },
  {
   "cell_type": "markdown",
   "metadata": {},
   "source": [
    "We see that dry weather condition is more favorable to collisions"
   ]
  },
  {
   "cell_type": "code",
   "execution_count": 18,
   "metadata": {},
   "outputs": [
    {
     "data": {
      "text/html": [
       "<div>\n",
       "<style scoped>\n",
       "    .dataframe tbody tr th:only-of-type {\n",
       "        vertical-align: middle;\n",
       "    }\n",
       "\n",
       "    .dataframe tbody tr th {\n",
       "        vertical-align: top;\n",
       "    }\n",
       "\n",
       "    .dataframe thead th {\n",
       "        text-align: right;\n",
       "    }\n",
       "</style>\n",
       "<table border=\"1\" class=\"dataframe\">\n",
       "  <thead>\n",
       "    <tr style=\"text-align: right;\">\n",
       "      <th></th>\n",
       "      <th>LIGHTCOND</th>\n",
       "    </tr>\n",
       "  </thead>\n",
       "  <tbody>\n",
       "    <tr>\n",
       "      <th>Daylight</th>\n",
       "      <td>61.528377</td>\n",
       "    </tr>\n",
       "    <tr>\n",
       "      <th>Dark</th>\n",
       "      <td>27.045899</td>\n",
       "    </tr>\n",
       "    <tr>\n",
       "      <th>Other</th>\n",
       "      <td>6.985336</td>\n",
       "    </tr>\n",
       "    <tr>\n",
       "      <th>Dusk</th>\n",
       "      <td>3.128369</td>\n",
       "    </tr>\n",
       "    <tr>\n",
       "      <th>Dawn</th>\n",
       "      <td>1.312019</td>\n",
       "    </tr>\n",
       "  </tbody>\n",
       "</table>\n",
       "</div>"
      ],
      "text/plain": [
       "          LIGHTCOND\n",
       "Daylight  61.528377\n",
       "Dark      27.045899\n",
       "Other      6.985336\n",
       "Dusk       3.128369\n",
       "Dawn       1.312019"
      ]
     },
     "execution_count": 18,
     "metadata": {},
     "output_type": "execute_result"
    }
   ],
   "source": [
    "perc_lightcond = pd.DataFrame(collisions['LIGHTCOND'].value_counts()/len(collisions)*100)\n",
    "perc_lightcond"
   ]
  },
  {
   "cell_type": "markdown",
   "metadata": {},
   "source": [
    "We see that daylight conditions are more favorable to collisions"
   ]
  },
  {
   "cell_type": "code",
   "execution_count": 19,
   "metadata": {},
   "outputs": [],
   "source": [
    "perc_weekday = pd.DataFrame(collisions['WEEKDAY'].value_counts()/len(collisions)*100)\n",
    "perc_weekday.reset_index(inplace=True)\n",
    "perc_weekday.replace({0:'Monday',1:'Tuesday',2:'Wednesday',3:'Thursday',4:'Friday',5:'Saturday',6:'Sunday'}, inplace=True)\n",
    "perc_weekday.set_index('index',inplace=True)"
   ]
  },
  {
   "cell_type": "code",
   "execution_count": 20,
   "metadata": {},
   "outputs": [
    {
     "data": {
      "text/plain": [
       "<AxesSubplot:xlabel='index'>"
      ]
     },
     "execution_count": 20,
     "metadata": {},
     "output_type": "execute_result"
    },
    {
     "data": {
      "image/png": "[encoded data removed]",
      "text/plain": [
       "<Figure size 432x288 with 1 Axes>"
      ]
     },
     "metadata": {
      "needs_background": "light"
     },
     "output_type": "display_data"
    }
   ],
   "source": [
    "perc_weekday.plot(kind='bar')"
   ]
  },
  {
   "cell_type": "markdown",
   "metadata": {},
   "source": [
    "Collisions occurr randomly over week days, although collisions on friday, thursday and wednesday are more frequent. Collisions on sunday are less frequent due to less traffic volume."
   ]
  },
  {
   "cell_type": "code",
   "execution_count": 23,
   "metadata": {},
   "outputs": [
    {
     "data": {
      "text/plain": [
       "<AxesSubplot:>"
      ]
     },
     "execution_count": 23,
     "metadata": {},
     "output_type": "execute_result"
    },
    {
     "data": {
      "image/png": "[encoded data removed]",
      "text/plain": [
       "<Figure size 432x288 with 1 Axes>"
      ]
     },
     "metadata": {
      "needs_background": "light"
     },
     "output_type": "display_data"
    }
   ],
   "source": [
    "perc_dayperiod = pd.DataFrame(collisions['INCDTTM'].value_counts()/len(collisions)*100)\n",
    "perc_dayperiod.plot(kind='bar')"
   ]
  },
  {
   "cell_type": "markdown",
   "metadata": {},
   "source": [
    "Collisions occur more frequently at noon and evening."
   ]
  },
  {
   "cell_type": "code",
   "execution_count": 24,
   "metadata": {},
   "outputs": [
    {
     "data": {
      "text/html": [
       "<div>\n",
       "<style scoped>\n",
       "    .dataframe tbody tr th:only-of-type {\n",
       "        vertical-align: middle;\n",
       "    }\n",
       "\n",
       "    .dataframe tbody tr th {\n",
       "        vertical-align: top;\n",
       "    }\n",
       "\n",
       "    .dataframe thead th {\n",
       "        text-align: right;\n",
       "    }\n",
       "</style>\n",
       "<table border=\"1\" class=\"dataframe\">\n",
       "  <thead>\n",
       "    <tr style=\"text-align: right;\">\n",
       "      <th></th>\n",
       "      <th>SDOT_COLCODE</th>\n",
       "    </tr>\n",
       "  </thead>\n",
       "  <tbody>\n",
       "    <tr>\n",
       "      <th>Vehicle-Vehicle</th>\n",
       "      <td>82.715153</td>\n",
       "    </tr>\n",
       "    <tr>\n",
       "      <th>Ran off road-collided</th>\n",
       "      <td>4.631611</td>\n",
       "    </tr>\n",
       "    <tr>\n",
       "      <th>Not Applicable</th>\n",
       "      <td>3.627283</td>\n",
       "    </tr>\n",
       "    <tr>\n",
       "      <th>Vehicle-Pedestrian</th>\n",
       "      <td>3.444185</td>\n",
       "    </tr>\n",
       "    <tr>\n",
       "      <th>Vehicle-Pedalcyclist</th>\n",
       "      <td>2.708544</td>\n",
       "    </tr>\n",
       "    <tr>\n",
       "      <th>Vehicle-object</th>\n",
       "      <td>2.180378</td>\n",
       "    </tr>\n",
       "    <tr>\n",
       "      <th>Overturned</th>\n",
       "      <td>0.247561</td>\n",
       "    </tr>\n",
       "    <tr>\n",
       "      <th>Driverless</th>\n",
       "      <td>0.207474</td>\n",
       "    </tr>\n",
       "    <tr>\n",
       "      <th>Pedalcyclist involved</th>\n",
       "      <td>0.095882</td>\n",
       "    </tr>\n",
       "    <tr>\n",
       "      <th>Ran off road</th>\n",
       "      <td>0.087215</td>\n",
       "    </tr>\n",
       "    <tr>\n",
       "      <th>Vehicle-Train</th>\n",
       "      <td>0.054713</td>\n",
       "    </tr>\n",
       "  </tbody>\n",
       "</table>\n",
       "</div>"
      ],
      "text/plain": [
       "                       SDOT_COLCODE\n",
       "Vehicle-Vehicle           82.715153\n",
       "Ran off road-collided      4.631611\n",
       "Not Applicable             3.627283\n",
       "Vehicle-Pedestrian         3.444185\n",
       "Vehicle-Pedalcyclist       2.708544\n",
       "Vehicle-object             2.180378\n",
       "Overturned                 0.247561\n",
       "Driverless                 0.207474\n",
       "Pedalcyclist involved      0.095882\n",
       "Ran off road               0.087215\n",
       "Vehicle-Train              0.054713"
      ]
     },
     "execution_count": 24,
     "metadata": {},
     "output_type": "execute_result"
    }
   ],
   "source": [
    "perc_stcolcode = pd.DataFrame(collisions['SDOT_COLCODE'].value_counts()/len(collisions)*100)\n",
    "perc_stcolcode.head(20)"
   ]
  },
  {
   "cell_type": "markdown",
   "metadata": {},
   "source": [
    "We see that the great majority of collisions are between vehicles."
   ]
  },
  {
   "cell_type": "code",
   "execution_count": 25,
   "metadata": {},
   "outputs": [],
   "source": [
    "road_weather = collisions.pivot_table(index='ROADCOND',columns='WEATHER',values='SEVERITYCODE',aggfunc='count',fill_value=0)"
   ]
  },
  {
   "cell_type": "code",
   "execution_count": 26,
   "metadata": {},
   "outputs": [
    {
     "data": {
      "text/plain": [
       "<AxesSubplot:xlabel='WEATHER', ylabel='ROADCOND'>"
      ]
     },
     "execution_count": 26,
     "metadata": {},
     "output_type": "execute_result"
    },
    {
     "data": {
      "image/png": "[encoded data removed]",
      "text/plain": [
       "<Figure size 432x288 with 2 Axes>"
      ]
     },
     "metadata": {
      "needs_background": "light"
     },
     "output_type": "display_data"
    }
   ],
   "source": [
    "sns.heatmap(road_weather,cmap='viridis')"
   ]
  },
  {
   "cell_type": "markdown",
   "metadata": {},
   "source": [
    "We see that Clear weather, overcast and raining are predominant factors that can cause severe accidents at dry and wet roads."
   ]
  },
  {
   "cell_type": "code",
   "execution_count": 27,
   "metadata": {},
   "outputs": [],
   "source": [
    "light_weather = collisions.pivot_table(index='LIGHTCOND',columns='WEATHER',values='SEVERITYCODE',aggfunc='count',fill_value=0)"
   ]
  },
  {
   "cell_type": "code",
   "execution_count": 28,
   "metadata": {},
   "outputs": [
    {
     "data": {
      "text/plain": [
       "<AxesSubplot:xlabel='WEATHER', ylabel='LIGHTCOND'>"
      ]
     },
     "execution_count": 28,
     "metadata": {},
     "output_type": "execute_result"
    },
    {
     "data": {
      "image/png": "[encoded data removed]",
      "text/plain": [
       "<Figure size 432x288 with 2 Axes>"
      ]
     },
     "metadata": {
      "needs_background": "light"
     },
     "output_type": "display_data"
    }
   ],
   "source": [
    "sns.heatmap(light_weather,cmap='viridis')"
   ]
  },
  {
   "cell_type": "code",
   "execution_count": 29,
   "metadata": {
    "scrolled": true
   },
   "outputs": [
    {
     "data": {
      "text/plain": [
       "<AxesSubplot:xlabel='LIGHTCOND,SEVERITYCODE'>"
      ]
     },
     "execution_count": 29,
     "metadata": {},
     "output_type": "execute_result"
    },
    {
     "data": {
      "image/png": "[encoded data removed]",
      "text/plain": [
       "<Figure size 432x288 with 1 Axes>"
      ]
     },
     "metadata": {
      "needs_background": "light"
     },
     "output_type": "display_data"
    }
   ],
   "source": [
    "collisions[collisions['WEATHER']=='Clear'].groupby('LIGHTCOND')['SEVERITYCODE'].value_counts().plot(kind='bar')"
   ]
  },
  {
   "cell_type": "markdown",
   "metadata": {},
   "source": [
    "Exploring collisions only at Clear weather, we see that light conditions that causes severe accidents are daylight and dark streets."
   ]
  },
  {
   "cell_type": "code",
   "execution_count": 30,
   "metadata": {},
   "outputs": [
    {
     "data": {
      "text/plain": [
       "<AxesSubplot:xlabel='ROADCOND,SEVERITYCODE'>"
      ]
     },
     "execution_count": 30,
     "metadata": {},
     "output_type": "execute_result"
    },
    {
     "data": {
      "image/png": "[encoded data removed]",
      "text/plain": [
       "<Figure size 432x288 with 1 Axes>"
      ]
     },
     "metadata": {
      "needs_background": "light"
     },
     "output_type": "display_data"
    }
   ],
   "source": [
    "collisions[collisions['WEATHER']=='Clear'].groupby('ROADCOND')['SEVERITYCODE'].value_counts().plot(kind='bar')"
   ]
  },
  {
   "cell_type": "code",
   "execution_count": 31,
   "metadata": {},
   "outputs": [
    {
     "data": {
      "text/plain": [
       "<AxesSubplot:xlabel='ADDRTYPE'>"
      ]
     },
     "execution_count": 31,
     "metadata": {},
     "output_type": "execute_result"
    },
    {
     "data": {
      "image/png": "[encoded data removed]",
      "text/plain": [
       "<Figure size 432x288 with 1 Axes>"
      ]
     },
     "metadata": {
      "needs_background": "light"
     },
     "output_type": "display_data"
    }
   ],
   "source": [
    "collisions[collisions['WEATHER']=='Clear'].groupby('ADDRTYPE')['SEVERITYCODE'].sum().plot(kind='bar')"
   ]
  },
  {
   "cell_type": "code",
   "execution_count": 32,
   "metadata": {},
   "outputs": [
    {
     "data": {
      "text/plain": [
       "<AxesSubplot:xlabel='ADDRTYPE,SEVERITYCODE'>"
      ]
     },
     "execution_count": 32,
     "metadata": {},
     "output_type": "execute_result"
    },
    {
     "data": {
      "image/png": "[encoded data removed]",
      "text/plain": [
       "<Figure size 432x288 with 1 Axes>"
      ]
     },
     "metadata": {
      "needs_background": "light"
     },
     "output_type": "display_data"
    }
   ],
   "source": [
    "collisions.groupby('ADDRTYPE')['SEVERITYCODE'].value_counts().plot(kind='bar')"
   ]
  },
  {
   "cell_type": "markdown",
   "metadata": {},
   "source": [
    "Severe collisions are more common in block address types."
   ]
  },
  {
   "cell_type": "code",
   "execution_count": 33,
   "metadata": {},
   "outputs": [
    {
     "data": {
      "text/plain": [
       "<AxesSubplot:xlabel='WEEKDAY,SEVERITYCODE'>"
      ]
     },
     "execution_count": 33,
     "metadata": {},
     "output_type": "execute_result"
    },
    {
     "data": {
      "image/png": "[encoded data removed]",
      "text/plain": [
       "<Figure size 432x288 with 1 Axes>"
      ]
     },
     "metadata": {
      "needs_background": "light"
     },
     "output_type": "display_data"
    }
   ],
   "source": [
    "collisions[collisions['SEVERITYCODE']==2].groupby('WEEKDAY')['SEVERITYCODE'].value_counts().plot(kind='bar')"
   ]
  },
  {
   "cell_type": "markdown",
   "metadata": {},
   "source": [
    "Considering all weather conditions, we see that friday is more risky to drive, with collision severity equal to 2."
   ]
  },
  {
   "cell_type": "markdown",
   "metadata": {},
   "source": [
    "3.2 Define features"
   ]
  },
  {
   "cell_type": "code",
   "execution_count": 34,
   "metadata": {},
   "outputs": [
    {
     "data": {
      "text/plain": [
       "Index(['SEVERITYCODE', 'X', 'Y', 'ADDRTYPE', 'INCDTTM', 'SDOT_COLCODE',\n",
       "       'WEATHER', 'ROADCOND', 'LIGHTCOND', 'WEEKDAY'],\n",
       "      dtype='object')"
      ]
     },
     "execution_count": 34,
     "metadata": {},
     "output_type": "execute_result"
    }
   ],
   "source": [
    "collisions.columns"
   ]
  },
  {
   "cell_type": "markdown",
   "metadata": {},
   "source": [
    "Given that we know week day, weather conditions, address type, road conditions, light conditions, speeding and under influence of alcohol,\n",
    "**predict**\n",
    "severity scale \n",
    "of an accident, if occurs, and determines if is more prudent change course or not drive to final destination."
   ]
  },
  {
   "cell_type": "markdown",
   "metadata": {},
   "source": [
    "3.3 Modelling"
   ]
  },
  {
   "cell_type": "markdown",
   "metadata": {},
   "source": [
    "We will use classification and regression models to compare performance, choose the best model and predict severity, based upon features described earlier. If severity is greater then a threshold, the driver will be informed to not drive to final destination, if the severity is intermediate, the driver will be informed to change course. Otherwise, the driver may proceed to final destination."
   ]
  },
  {
   "cell_type": "markdown",
   "metadata": {},
   "source": [
    "3.4 Evaluation"
   ]
  },
  {
   "cell_type": "markdown",
   "metadata": {},
   "source": [
    "We will compare the historic data and use test train split method to create a test set and a train set, in order to be able to\n",
    "correctly predict the severity, therefore, this will be a supervised learning problem."
   ]
  },
  {
   "cell_type": "markdown",
   "metadata": {},
   "source": [
    "### 4. Analysis <a name=\"analysis\"></a>"
   ]
  },
  {
   "cell_type": "markdown",
   "metadata": {},
   "source": [
    "4.1 Imports needed"
   ]
  },
  {
   "cell_type": "code",
   "execution_count": 35,
   "metadata": {},
   "outputs": [],
   "source": [
    "from sklearn import preprocessing\n",
    "import itertools"
   ]
  },
  {
   "cell_type": "markdown",
   "metadata": {},
   "source": [
    "4.2 Preprocessing"
   ]
  },
  {
   "cell_type": "code",
   "execution_count": 36,
   "metadata": {},
   "outputs": [
    {
     "data": {
      "text/html": [
       "<div>\n",
       "<style scoped>\n",
       "    .dataframe tbody tr th:only-of-type {\n",
       "        vertical-align: middle;\n",
       "    }\n",
       "\n",
       "    .dataframe tbody tr th {\n",
       "        vertical-align: top;\n",
       "    }\n",
       "\n",
       "    .dataframe thead th {\n",
       "        text-align: right;\n",
       "    }\n",
       "</style>\n",
       "<table border=\"1\" class=\"dataframe\">\n",
       "  <thead>\n",
       "    <tr style=\"text-align: right;\">\n",
       "      <th></th>\n",
       "      <th>SEVERITYCODE</th>\n",
       "      <th>X</th>\n",
       "      <th>Y</th>\n",
       "      <th>ADDRTYPE</th>\n",
       "      <th>INCDTTM</th>\n",
       "      <th>SDOT_COLCODE</th>\n",
       "      <th>WEATHER</th>\n",
       "      <th>ROADCOND</th>\n",
       "      <th>LIGHTCOND</th>\n",
       "      <th>WEEKDAY</th>\n",
       "    </tr>\n",
       "  </thead>\n",
       "  <tbody>\n",
       "    <tr>\n",
       "      <th>0</th>\n",
       "      <td>2</td>\n",
       "      <td>-122.323148</td>\n",
       "      <td>47.703140</td>\n",
       "      <td>Intersection</td>\n",
       "      <td>Noon</td>\n",
       "      <td>Vehicle-Vehicle</td>\n",
       "      <td>Overcast</td>\n",
       "      <td>Wet</td>\n",
       "      <td>Daylight</td>\n",
       "      <td>2</td>\n",
       "    </tr>\n",
       "    <tr>\n",
       "      <th>1</th>\n",
       "      <td>1</td>\n",
       "      <td>-122.347294</td>\n",
       "      <td>47.647172</td>\n",
       "      <td>Block</td>\n",
       "      <td>Evening</td>\n",
       "      <td>Vehicle-Vehicle</td>\n",
       "      <td>Raining</td>\n",
       "      <td>Wet</td>\n",
       "      <td>Dark</td>\n",
       "      <td>2</td>\n",
       "    </tr>\n",
       "    <tr>\n",
       "      <th>2</th>\n",
       "      <td>1</td>\n",
       "      <td>-122.334540</td>\n",
       "      <td>47.607871</td>\n",
       "      <td>Block</td>\n",
       "      <td>Morning</td>\n",
       "      <td>Vehicle-Vehicle</td>\n",
       "      <td>Overcast</td>\n",
       "      <td>Dry</td>\n",
       "      <td>Daylight</td>\n",
       "      <td>3</td>\n",
       "    </tr>\n",
       "    <tr>\n",
       "      <th>3</th>\n",
       "      <td>1</td>\n",
       "      <td>-122.334803</td>\n",
       "      <td>47.604803</td>\n",
       "      <td>Block</td>\n",
       "      <td>Morning</td>\n",
       "      <td>Vehicle-Vehicle</td>\n",
       "      <td>Clear</td>\n",
       "      <td>Dry</td>\n",
       "      <td>Daylight</td>\n",
       "      <td>4</td>\n",
       "    </tr>\n",
       "    <tr>\n",
       "      <th>4</th>\n",
       "      <td>2</td>\n",
       "      <td>-122.306426</td>\n",
       "      <td>47.545739</td>\n",
       "      <td>Intersection</td>\n",
       "      <td>Morning</td>\n",
       "      <td>Vehicle-Vehicle</td>\n",
       "      <td>Raining</td>\n",
       "      <td>Wet</td>\n",
       "      <td>Daylight</td>\n",
       "      <td>2</td>\n",
       "    </tr>\n",
       "  </tbody>\n",
       "</table>\n",
       "</div>"
      ],
      "text/plain": [
       "   SEVERITYCODE           X          Y      ADDRTYPE  INCDTTM  \\\n",
       "0             2 -122.323148  47.703140  Intersection     Noon   \n",
       "1             1 -122.347294  47.647172         Block  Evening   \n",
       "2             1 -122.334540  47.607871         Block  Morning   \n",
       "3             1 -122.334803  47.604803         Block  Morning   \n",
       "4             2 -122.306426  47.545739  Intersection  Morning   \n",
       "\n",
       "      SDOT_COLCODE   WEATHER ROADCOND LIGHTCOND  WEEKDAY  \n",
       "0  Vehicle-Vehicle  Overcast      Wet  Daylight        2  \n",
       "1  Vehicle-Vehicle   Raining      Wet      Dark        2  \n",
       "2  Vehicle-Vehicle  Overcast      Dry  Daylight        3  \n",
       "3  Vehicle-Vehicle     Clear      Dry  Daylight        4  \n",
       "4  Vehicle-Vehicle   Raining      Wet  Daylight        2  "
      ]
     },
     "execution_count": 36,
     "metadata": {},
     "output_type": "execute_result"
    }
   ],
   "source": [
    "collisions.head()"
   ]
  },
  {
   "cell_type": "code",
   "execution_count": 37,
   "metadata": {},
   "outputs": [
    {
     "name": "stdout",
     "output_type": "stream",
     "text": [
      "<class 'pandas.core.frame.DataFrame'>\n",
      "Int64Index: 184601 entries, 0 to 194672\n",
      "Data columns (total 10 columns):\n",
      " #   Column        Non-Null Count   Dtype  \n",
      "---  ------        --------------   -----  \n",
      " 0   SEVERITYCODE  184601 non-null  int64  \n",
      " 1   X             184601 non-null  float64\n",
      " 2   Y             184601 non-null  float64\n",
      " 3   ADDRTYPE      184601 non-null  object \n",
      " 4   INCDTTM       184601 non-null  object \n",
      " 5   SDOT_COLCODE  184601 non-null  object \n",
      " 6   WEATHER       184601 non-null  object \n",
      " 7   ROADCOND      184601 non-null  object \n",
      " 8   LIGHTCOND     184601 non-null  object \n",
      " 9   WEEKDAY       184601 non-null  int64  \n",
      "dtypes: float64(2), int64(2), object(6)\n",
      "memory usage: 15.5+ MB\n"
     ]
    }
   ],
   "source": [
    "collisions.info()"
   ]
  },
  {
   "cell_type": "code",
   "execution_count": 38,
   "metadata": {},
   "outputs": [],
   "source": [
    "Feature = collisions[['ADDRTYPE','INCDTTM','SDOT_COLCODE','WEATHER','ROADCOND','LIGHTCOND','WEEKDAY']]"
   ]
  },
  {
   "cell_type": "code",
   "execution_count": 39,
   "metadata": {},
   "outputs": [],
   "source": [
    "Feature = pd.concat([Feature,pd.get_dummies(collisions['WEATHER'])], axis=1)\n",
    "Feature = pd.concat([Feature,pd.get_dummies(collisions['ROADCOND'])], axis=1)\n",
    "Feature = pd.concat([Feature,pd.get_dummies(collisions['LIGHTCOND'])], axis=1)\n",
    "Feature = pd.concat([Feature,pd.get_dummies(collisions['ADDRTYPE'])], axis=1)\n",
    "Feature = pd.concat([Feature,pd.get_dummies(collisions['INCDTTM'])], axis=1)\n",
    "Feature = pd.concat([Feature,pd.get_dummies(collisions['SDOT_COLCODE'])], axis=1)"
   ]
  },
  {
   "cell_type": "code",
   "execution_count": 40,
   "metadata": {},
   "outputs": [
    {
     "data": {
      "text/html": [
       "<div>\n",
       "<style scoped>\n",
       "    .dataframe tbody tr th:only-of-type {\n",
       "        vertical-align: middle;\n",
       "    }\n",
       "\n",
       "    .dataframe tbody tr th {\n",
       "        vertical-align: top;\n",
       "    }\n",
       "\n",
       "    .dataframe thead th {\n",
       "        text-align: right;\n",
       "    }\n",
       "</style>\n",
       "<table border=\"1\" class=\"dataframe\">\n",
       "  <thead>\n",
       "    <tr style=\"text-align: right;\">\n",
       "      <th></th>\n",
       "      <th>ADDRTYPE</th>\n",
       "      <th>INCDTTM</th>\n",
       "      <th>SDOT_COLCODE</th>\n",
       "      <th>WEATHER</th>\n",
       "      <th>ROADCOND</th>\n",
       "      <th>LIGHTCOND</th>\n",
       "      <th>WEEKDAY</th>\n",
       "      <th>Clear</th>\n",
       "      <th>Fog/Smog/Smoke</th>\n",
       "      <th>Other</th>\n",
       "      <th>...</th>\n",
       "      <th>Not Applicable</th>\n",
       "      <th>Overturned</th>\n",
       "      <th>Pedalcyclist involved</th>\n",
       "      <th>Ran off road</th>\n",
       "      <th>Ran off road-collided</th>\n",
       "      <th>Vehicle-Pedalcyclist</th>\n",
       "      <th>Vehicle-Pedestrian</th>\n",
       "      <th>Vehicle-Train</th>\n",
       "      <th>Vehicle-Vehicle</th>\n",
       "      <th>Vehicle-object</th>\n",
       "    </tr>\n",
       "  </thead>\n",
       "  <tbody>\n",
       "    <tr>\n",
       "      <th>0</th>\n",
       "      <td>Intersection</td>\n",
       "      <td>Noon</td>\n",
       "      <td>Vehicle-Vehicle</td>\n",
       "      <td>Overcast</td>\n",
       "      <td>Wet</td>\n",
       "      <td>Daylight</td>\n",
       "      <td>2</td>\n",
       "      <td>0</td>\n",
       "      <td>0</td>\n",
       "      <td>0</td>\n",
       "      <td>...</td>\n",
       "      <td>0</td>\n",
       "      <td>0</td>\n",
       "      <td>0</td>\n",
       "      <td>0</td>\n",
       "      <td>0</td>\n",
       "      <td>0</td>\n",
       "      <td>0</td>\n",
       "      <td>0</td>\n",
       "      <td>1</td>\n",
       "      <td>0</td>\n",
       "    </tr>\n",
       "    <tr>\n",
       "      <th>1</th>\n",
       "      <td>Block</td>\n",
       "      <td>Evening</td>\n",
       "      <td>Vehicle-Vehicle</td>\n",
       "      <td>Raining</td>\n",
       "      <td>Wet</td>\n",
       "      <td>Dark</td>\n",
       "      <td>2</td>\n",
       "      <td>0</td>\n",
       "      <td>0</td>\n",
       "      <td>0</td>\n",
       "      <td>...</td>\n",
       "      <td>0</td>\n",
       "      <td>0</td>\n",
       "      <td>0</td>\n",
       "      <td>0</td>\n",
       "      <td>0</td>\n",
       "      <td>0</td>\n",
       "      <td>0</td>\n",
       "      <td>0</td>\n",
       "      <td>1</td>\n",
       "      <td>0</td>\n",
       "    </tr>\n",
       "    <tr>\n",
       "      <th>2</th>\n",
       "      <td>Block</td>\n",
       "      <td>Morning</td>\n",
       "      <td>Vehicle-Vehicle</td>\n",
       "      <td>Overcast</td>\n",
       "      <td>Dry</td>\n",
       "      <td>Daylight</td>\n",
       "      <td>3</td>\n",
       "      <td>0</td>\n",
       "      <td>0</td>\n",
       "      <td>0</td>\n",
       "      <td>...</td>\n",
       "      <td>0</td>\n",
       "      <td>0</td>\n",
       "      <td>0</td>\n",
       "      <td>0</td>\n",
       "      <td>0</td>\n",
       "      <td>0</td>\n",
       "      <td>0</td>\n",
       "      <td>0</td>\n",
       "      <td>1</td>\n",
       "      <td>0</td>\n",
       "    </tr>\n",
       "    <tr>\n",
       "      <th>3</th>\n",
       "      <td>Block</td>\n",
       "      <td>Morning</td>\n",
       "      <td>Vehicle-Vehicle</td>\n",
       "      <td>Clear</td>\n",
       "      <td>Dry</td>\n",
       "      <td>Daylight</td>\n",
       "      <td>4</td>\n",
       "      <td>1</td>\n",
       "      <td>0</td>\n",
       "      <td>0</td>\n",
       "      <td>...</td>\n",
       "      <td>0</td>\n",
       "      <td>0</td>\n",
       "      <td>0</td>\n",
       "      <td>0</td>\n",
       "      <td>0</td>\n",
       "      <td>0</td>\n",
       "      <td>0</td>\n",
       "      <td>0</td>\n",
       "      <td>1</td>\n",
       "      <td>0</td>\n",
       "    </tr>\n",
       "    <tr>\n",
       "      <th>4</th>\n",
       "      <td>Intersection</td>\n",
       "      <td>Morning</td>\n",
       "      <td>Vehicle-Vehicle</td>\n",
       "      <td>Raining</td>\n",
       "      <td>Wet</td>\n",
       "      <td>Daylight</td>\n",
       "      <td>2</td>\n",
       "      <td>0</td>\n",
       "      <td>0</td>\n",
       "      <td>0</td>\n",
       "      <td>...</td>\n",
       "      <td>0</td>\n",
       "      <td>0</td>\n",
       "      <td>0</td>\n",
       "      <td>0</td>\n",
       "      <td>0</td>\n",
       "      <td>0</td>\n",
       "      <td>0</td>\n",
       "      <td>0</td>\n",
       "      <td>1</td>\n",
       "      <td>0</td>\n",
       "    </tr>\n",
       "  </tbody>\n",
       "</table>\n",
       "<p>5 rows × 41 columns</p>\n",
       "</div>"
      ],
      "text/plain": [
       "       ADDRTYPE  INCDTTM     SDOT_COLCODE   WEATHER ROADCOND LIGHTCOND  \\\n",
       "0  Intersection     Noon  Vehicle-Vehicle  Overcast      Wet  Daylight   \n",
       "1         Block  Evening  Vehicle-Vehicle   Raining      Wet      Dark   \n",
       "2         Block  Morning  Vehicle-Vehicle  Overcast      Dry  Daylight   \n",
       "3         Block  Morning  Vehicle-Vehicle     Clear      Dry  Daylight   \n",
       "4  Intersection  Morning  Vehicle-Vehicle   Raining      Wet  Daylight   \n",
       "\n",
       "   WEEKDAY  Clear  Fog/Smog/Smoke  Other  ...  Not Applicable  Overturned  \\\n",
       "0        2      0               0      0  ...               0           0   \n",
       "1        2      0               0      0  ...               0           0   \n",
       "2        3      0               0      0  ...               0           0   \n",
       "3        4      1               0      0  ...               0           0   \n",
       "4        2      0               0      0  ...               0           0   \n",
       "\n",
       "   Pedalcyclist involved  Ran off road  Ran off road-collided  \\\n",
       "0                      0             0                      0   \n",
       "1                      0             0                      0   \n",
       "2                      0             0                      0   \n",
       "3                      0             0                      0   \n",
       "4                      0             0                      0   \n",
       "\n",
       "   Vehicle-Pedalcyclist  Vehicle-Pedestrian  Vehicle-Train  Vehicle-Vehicle  \\\n",
       "0                     0                   0              0                1   \n",
       "1                     0                   0              0                1   \n",
       "2                     0                   0              0                1   \n",
       "3                     0                   0              0                1   \n",
       "4                     0                   0              0                1   \n",
       "\n",
       "   Vehicle-object  \n",
       "0               0  \n",
       "1               0  \n",
       "2               0  \n",
       "3               0  \n",
       "4               0  \n",
       "\n",
       "[5 rows x 41 columns]"
      ]
     },
     "execution_count": 40,
     "metadata": {},
     "output_type": "execute_result"
    }
   ],
   "source": [
    "Feature.head()"
   ]
  },
  {
   "cell_type": "code",
   "execution_count": 41,
   "metadata": {},
   "outputs": [],
   "source": [
    "X = Feature.drop(columns=['ADDRTYPE','INCDTTM','SDOT_COLCODE','WEATHER','ROADCOND','LIGHTCOND'])"
   ]
  },
  {
   "cell_type": "code",
   "execution_count": 42,
   "metadata": {},
   "outputs": [
    {
     "data": {
      "text/plain": [
       "Index(['WEEKDAY', 'Clear', 'Fog/Smog/Smoke', 'Other', 'Overcast', 'Raining',\n",
       "       'Snowing', 'Dry', 'Ice/Snow', 'Other', 'Wet', 'Dark', 'Dawn',\n",
       "       'Daylight', 'Dusk', 'Other', 'Block', 'Intersection', 'Early Morning',\n",
       "       'Evening', 'Late Night', 'Morning', 'Night', 'Noon', 'Driverless',\n",
       "       'Not Applicable', 'Overturned', 'Pedalcyclist involved', 'Ran off road',\n",
       "       'Ran off road-collided', 'Vehicle-Pedalcyclist', 'Vehicle-Pedestrian',\n",
       "       'Vehicle-Train', 'Vehicle-Vehicle', 'Vehicle-object'],\n",
       "      dtype='object')"
      ]
     },
     "execution_count": 42,
     "metadata": {},
     "output_type": "execute_result"
    }
   ],
   "source": [
    "X.columns"
   ]
  },
  {
   "cell_type": "code",
   "execution_count": 43,
   "metadata": {},
   "outputs": [],
   "source": [
    "y = collisions['SEVERITYCODE'].values"
   ]
  },
  {
   "cell_type": "markdown",
   "metadata": {},
   "source": [
    "Data Standardization give data zero mean and unit variance (technically should be done after train test split )"
   ]
  },
  {
   "cell_type": "code",
   "execution_count": 44,
   "metadata": {},
   "outputs": [],
   "source": [
    "X = preprocessing.StandardScaler().fit(X).transform(X)"
   ]
  },
  {
   "cell_type": "code",
   "execution_count": 45,
   "metadata": {},
   "outputs": [],
   "source": [
    "from sklearn import metrics\n",
    "from sklearn.metrics import f1_score\n",
    "from sklearn.metrics import jaccard_score"
   ]
  },
  {
   "cell_type": "markdown",
   "metadata": {},
   "source": [
    "Defining test, train sets"
   ]
  },
  {
   "cell_type": "code",
   "execution_count": 46,
   "metadata": {},
   "outputs": [
    {
     "name": "stdout",
     "output_type": "stream",
     "text": [
      "Train set: (129220, 35) (129220,)\n",
      "Test set: (55381, 35) (55381,)\n"
     ]
    }
   ],
   "source": [
    "from sklearn.model_selection import train_test_split\n",
    "X_train, X_test, y_train, y_test = train_test_split( X, y, test_size=0.3, random_state=5)\n",
    "print ('Train set:', X_train.shape,  y_train.shape)\n",
    "print ('Test set:', X_test.shape,  y_test.shape)"
   ]
  },
  {
   "cell_type": "markdown",
   "metadata": {},
   "source": [
    "4.3 Decision tree"
   ]
  },
  {
   "cell_type": "code",
   "execution_count": 50,
   "metadata": {},
   "outputs": [],
   "source": [
    "from sklearn.tree import DecisionTreeClassifier"
   ]
  },
  {
   "cell_type": "code",
   "execution_count": 51,
   "metadata": {},
   "outputs": [],
   "source": [
    "depth_range = range(1, 15)\n",
    "jaccard_score_ = []\n",
    "f1_score_ = []\n",
    "\n",
    "for d in depth_range:\n",
    "    dt = DecisionTreeClassifier(criterion = 'gini', max_depth = d)\n",
    "    dt.fit(X_train, y_train)\n",
    "    dt_yhat = dt.predict(X_test)\n",
    "    jaccard_score_.append(jaccard_score(y_test, dt_yhat))\n",
    "    f1_score_.append(f1_score(y_test, dt_yhat, average = 'weighted'))"
   ]
  },
  {
   "cell_type": "code",
   "execution_count": 52,
   "metadata": {},
   "outputs": [
    {
     "data": {
      "text/html": [
       "<div>\n",
       "<style scoped>\n",
       "    .dataframe tbody tr th:only-of-type {\n",
       "        vertical-align: middle;\n",
       "    }\n",
       "\n",
       "    .dataframe tbody tr th {\n",
       "        vertical-align: top;\n",
       "    }\n",
       "\n",
       "    .dataframe thead th {\n",
       "        text-align: right;\n",
       "    }\n",
       "</style>\n",
       "<table border=\"1\" class=\"dataframe\">\n",
       "  <thead>\n",
       "    <tr style=\"text-align: right;\">\n",
       "      <th>Evaluation Metrics</th>\n",
       "      <th>d = 1</th>\n",
       "      <th>d = 2</th>\n",
       "      <th>d = 3</th>\n",
       "      <th>d = 4</th>\n",
       "      <th>d = 5</th>\n",
       "      <th>d = 6</th>\n",
       "      <th>d = 7</th>\n",
       "      <th>d = 8</th>\n",
       "      <th>d = 9</th>\n",
       "      <th>d = 10</th>\n",
       "      <th>d = 11</th>\n",
       "      <th>d = 12</th>\n",
       "      <th>d = 13</th>\n",
       "      <th>d = 14</th>\n",
       "    </tr>\n",
       "  </thead>\n",
       "  <tbody>\n",
       "    <tr>\n",
       "      <th>Jaccard</th>\n",
       "      <td>0.715824</td>\n",
       "      <td>0.730155</td>\n",
       "      <td>0.730155</td>\n",
       "      <td>0.729993</td>\n",
       "      <td>0.729993</td>\n",
       "      <td>0.730645</td>\n",
       "      <td>0.731282</td>\n",
       "      <td>0.731298</td>\n",
       "      <td>0.731112</td>\n",
       "      <td>0.730802</td>\n",
       "      <td>0.730540</td>\n",
       "      <td>0.730427</td>\n",
       "      <td>0.730073</td>\n",
       "      <td>0.729787</td>\n",
       "    </tr>\n",
       "    <tr>\n",
       "      <th>F1</th>\n",
       "      <td>0.637207</td>\n",
       "      <td>0.679263</td>\n",
       "      <td>0.679263</td>\n",
       "      <td>0.678860</td>\n",
       "      <td>0.678860</td>\n",
       "      <td>0.680868</td>\n",
       "      <td>0.682677</td>\n",
       "      <td>0.682622</td>\n",
       "      <td>0.682469</td>\n",
       "      <td>0.681857</td>\n",
       "      <td>0.681322</td>\n",
       "      <td>0.681155</td>\n",
       "      <td>0.680378</td>\n",
       "      <td>0.680419</td>\n",
       "    </tr>\n",
       "  </tbody>\n",
       "</table>\n",
       "</div>"
      ],
      "text/plain": [
       "Evaluation Metrics     d = 1     d = 2     d = 3     d = 4     d = 5  \\\n",
       "Jaccard             0.715824  0.730155  0.730155  0.729993  0.729993   \n",
       "F1                  0.637207  0.679263  0.679263  0.678860  0.678860   \n",
       "\n",
       "Evaluation Metrics     d = 6     d = 7     d = 8     d = 9    d = 10  \\\n",
       "Jaccard             0.730645  0.731282  0.731298  0.731112  0.730802   \n",
       "F1                  0.680868  0.682677  0.682622  0.682469  0.681857   \n",
       "\n",
       "Evaluation Metrics    d = 11    d = 12    d = 13    d = 14  \n",
       "Jaccard             0.730540  0.730427  0.730073  0.729787  \n",
       "F1                  0.681322  0.681155  0.680378  0.680419  "
      ]
     },
     "execution_count": 52,
     "metadata": {},
     "output_type": "execute_result"
    }
   ],
   "source": [
    "result = pd.DataFrame([jaccard_score_, f1_score_], index = ['Jaccard', 'F1'], columns = ['d = 1','d = 2','d = 3','d = 4','d = 5','d = 6','d = 7','d = 8','d = 9','d = 10', 'd = 11', 'd = 12', 'd = 13', 'd = 14'])\n",
    "result.columns.name = 'Evaluation Metrics'\n",
    "result"
   ]
  },
  {
   "cell_type": "code",
   "execution_count": 53,
   "metadata": {},
   "outputs": [],
   "source": [
    "dtree = DecisionTreeClassifier(criterion=\"entropy\", max_depth = 8)"
   ]
  },
  {
   "cell_type": "code",
   "execution_count": 54,
   "metadata": {},
   "outputs": [
    {
     "data": {
      "text/plain": [
       "DecisionTreeClassifier(criterion='entropy', max_depth=8)"
      ]
     },
     "execution_count": 54,
     "metadata": {},
     "output_type": "execute_result"
    }
   ],
   "source": [
    "dtree.fit(X_train,y_train)"
   ]
  },
  {
   "cell_type": "markdown",
   "metadata": {},
   "source": [
    "4.4 Logistic Regression"
   ]
  },
  {
   "cell_type": "code",
   "execution_count": 47,
   "metadata": {},
   "outputs": [],
   "source": [
    "from sklearn.linear_model import LogisticRegression \n",
    "from sklearn.metrics import log_loss"
   ]
  },
  {
   "cell_type": "code",
   "execution_count": 48,
   "metadata": {},
   "outputs": [],
   "source": [
    "solvers = ['lbfgs', 'saga', 'liblinear', 'newton-cg', 'sag']\n",
    "regularization_val = [0.1, 0.01, 0.001]\n",
    "iterations = 0\n",
    "accuracy_score = []\n",
    "\n",
    "resume = {}\n",
    "\n",
    "for i, c in enumerate(regularization_val):\n",
    "    for j, solver in enumerate(solvers):\n",
    "        iterations += 1\n",
    "        lr_model = LogisticRegression(C = c, solver = solver).fit(X_train, y_train)\n",
    "        lr_yhat = lr_model.predict(X_train)\n",
    "        y_prob = lr_model.predict_proba(X_train)\n",
    "        resume['Test number {}'.format(iterations)] = ['Accuracy is = {}'.format(c), solver, log_loss(y_train, y_prob)]\n",
    "        accuracy_score.append(log_loss(y_train, y_prob))"
   ]
  },
  {
   "cell_type": "code",
   "execution_count": 49,
   "metadata": {},
   "outputs": [
    {
     "data": {
      "text/html": [
       "<div>\n",
       "<style scoped>\n",
       "    .dataframe tbody tr th:only-of-type {\n",
       "        vertical-align: middle;\n",
       "    }\n",
       "\n",
       "    .dataframe tbody tr th {\n",
       "        vertical-align: top;\n",
       "    }\n",
       "\n",
       "    .dataframe thead th {\n",
       "        text-align: right;\n",
       "    }\n",
       "</style>\n",
       "<table border=\"1\" class=\"dataframe\">\n",
       "  <thead>\n",
       "    <tr style=\"text-align: right;\">\n",
       "      <th></th>\n",
       "      <th>Test number 1</th>\n",
       "      <th>Test number 2</th>\n",
       "      <th>Test number 3</th>\n",
       "      <th>Test number 4</th>\n",
       "      <th>Test number 5</th>\n",
       "      <th>Test number 6</th>\n",
       "      <th>Test number 7</th>\n",
       "      <th>Test number 8</th>\n",
       "      <th>Test number 9</th>\n",
       "      <th>Test number 10</th>\n",
       "      <th>Test number 11</th>\n",
       "      <th>Test number 12</th>\n",
       "      <th>Test number 13</th>\n",
       "      <th>Test number 14</th>\n",
       "      <th>Test number 15</th>\n",
       "    </tr>\n",
       "  </thead>\n",
       "  <tbody>\n",
       "    <tr>\n",
       "      <th>0</th>\n",
       "      <td>Accuracy is = 0.1</td>\n",
       "      <td>Accuracy is = 0.1</td>\n",
       "      <td>Accuracy is = 0.1</td>\n",
       "      <td>Accuracy is = 0.1</td>\n",
       "      <td>Accuracy is = 0.1</td>\n",
       "      <td>Accuracy is = 0.01</td>\n",
       "      <td>Accuracy is = 0.01</td>\n",
       "      <td>Accuracy is = 0.01</td>\n",
       "      <td>Accuracy is = 0.01</td>\n",
       "      <td>Accuracy is = 0.01</td>\n",
       "      <td>Accuracy is = 0.001</td>\n",
       "      <td>Accuracy is = 0.001</td>\n",
       "      <td>Accuracy is = 0.001</td>\n",
       "      <td>Accuracy is = 0.001</td>\n",
       "      <td>Accuracy is = 0.001</td>\n",
       "    </tr>\n",
       "    <tr>\n",
       "      <th>1</th>\n",
       "      <td>lbfgs</td>\n",
       "      <td>saga</td>\n",
       "      <td>liblinear</td>\n",
       "      <td>newton-cg</td>\n",
       "      <td>sag</td>\n",
       "      <td>lbfgs</td>\n",
       "      <td>saga</td>\n",
       "      <td>liblinear</td>\n",
       "      <td>newton-cg</td>\n",
       "      <td>sag</td>\n",
       "      <td>lbfgs</td>\n",
       "      <td>saga</td>\n",
       "      <td>liblinear</td>\n",
       "      <td>newton-cg</td>\n",
       "      <td>sag</td>\n",
       "    </tr>\n",
       "    <tr>\n",
       "      <th>2</th>\n",
       "      <td>0.535736</td>\n",
       "      <td>0.535736</td>\n",
       "      <td>0.535736</td>\n",
       "      <td>0.535736</td>\n",
       "      <td>0.535736</td>\n",
       "      <td>0.535738</td>\n",
       "      <td>0.535738</td>\n",
       "      <td>0.53574</td>\n",
       "      <td>0.535738</td>\n",
       "      <td>0.535738</td>\n",
       "      <td>0.535885</td>\n",
       "      <td>0.535885</td>\n",
       "      <td>0.536072</td>\n",
       "      <td>0.535885</td>\n",
       "      <td>0.535885</td>\n",
       "    </tr>\n",
       "  </tbody>\n",
       "</table>\n",
       "</div>"
      ],
      "text/plain": [
       "       Test number 1      Test number 2      Test number 3      Test number 4  \\\n",
       "0  Accuracy is = 0.1  Accuracy is = 0.1  Accuracy is = 0.1  Accuracy is = 0.1   \n",
       "1              lbfgs               saga          liblinear          newton-cg   \n",
       "2           0.535736           0.535736           0.535736           0.535736   \n",
       "\n",
       "       Test number 5       Test number 6       Test number 7  \\\n",
       "0  Accuracy is = 0.1  Accuracy is = 0.01  Accuracy is = 0.01   \n",
       "1                sag               lbfgs                saga   \n",
       "2           0.535736            0.535738            0.535738   \n",
       "\n",
       "        Test number 8       Test number 9      Test number 10  \\\n",
       "0  Accuracy is = 0.01  Accuracy is = 0.01  Accuracy is = 0.01   \n",
       "1           liblinear           newton-cg                 sag   \n",
       "2             0.53574            0.535738            0.535738   \n",
       "\n",
       "        Test number 11       Test number 12       Test number 13  \\\n",
       "0  Accuracy is = 0.001  Accuracy is = 0.001  Accuracy is = 0.001   \n",
       "1                lbfgs                 saga            liblinear   \n",
       "2             0.535885             0.535885             0.536072   \n",
       "\n",
       "        Test number 14       Test number 15  \n",
       "0  Accuracy is = 0.001  Accuracy is = 0.001  \n",
       "1            newton-cg                  sag  \n",
       "2             0.535885             0.535885  "
      ]
     },
     "execution_count": 49,
     "metadata": {},
     "output_type": "execute_result"
    }
   ],
   "source": [
    "result_log = pd.DataFrame(resume)\n",
    "result_log"
   ]
  },
  {
   "cell_type": "code",
   "execution_count": 55,
   "metadata": {},
   "outputs": [
    {
     "data": {
      "text/plain": [
       "LogisticRegression(C=0.001, solver='saga')"
      ]
     },
     "execution_count": 55,
     "metadata": {},
     "output_type": "execute_result"
    }
   ],
   "source": [
    "lr_model = LogisticRegression(C = 0.001, solver = 'saga')\n",
    "lr_model.fit(X_train, y_train)\n",
    "lr_model"
   ]
  },
  {
   "cell_type": "markdown",
   "metadata": {},
   "source": [
    "### 5. Results and Discussions <a name=\"results\"></a>"
   ]
  },
  {
   "cell_type": "markdown",
   "metadata": {},
   "source": [
    "5.1 Comparison of models"
   ]
  },
  {
   "cell_type": "code",
   "execution_count": 56,
   "metadata": {},
   "outputs": [],
   "source": [
    "from sklearn.metrics import jaccard_score\n",
    "from sklearn.metrics import f1_score\n",
    "from sklearn.metrics import log_loss"
   ]
  },
  {
   "cell_type": "markdown",
   "metadata": {},
   "source": [
    "5.2 Model selection"
   ]
  },
  {
   "cell_type": "code",
   "execution_count": 62,
   "metadata": {},
   "outputs": [
    {
     "data": {
      "text/plain": [
       "[0.7315, 0.7316]"
      ]
     },
     "execution_count": 62,
     "metadata": {},
     "output_type": "execute_result"
    }
   ],
   "source": [
    "# Jaccard\n",
    "\n",
    "# Decision Tree\n",
    "dt_yhat = dtree.predict(X_test)\n",
    "jss1 = round(jaccard_score(y_test, dt_yhat), 4)\n",
    "\n",
    "# Logistic Regression\n",
    "lr_yhat = lr_model.predict(X_test)\n",
    "jss2 = round(jaccard_score(y_test, lr_yhat), 4)\n",
    "\n",
    "jss_list = [jss1, jss2]\n",
    "jss_list"
   ]
  },
  {
   "cell_type": "code",
   "execution_count": 63,
   "metadata": {},
   "outputs": [
    {
     "data": {
      "text/plain": [
       "[0.6834, 0.6835]"
      ]
     },
     "execution_count": 63,
     "metadata": {},
     "output_type": "execute_result"
    }
   ],
   "source": [
    "# F1_score\n",
    "\n",
    "# Decision Tree\n",
    "dt_yhat = dtree.predict(X_test)\n",
    "f1 = round(f1_score(y_test, dt_yhat, average = 'weighted'), 4)\n",
    "\n",
    "# Logistic Regression\n",
    "lr_yhat = lr_model.predict(X_test)\n",
    "f2 = round(f1_score(y_test, lr_yhat, average = 'weighted'), 4)\n",
    "\n",
    "f1_list = [f1, f2]\n",
    "f1_list"
   ]
  },
  {
   "cell_type": "code",
   "execution_count": 65,
   "metadata": {},
   "outputs": [
    {
     "data": {
      "text/plain": [
       "['NA', 0.5352]"
      ]
     },
     "execution_count": 65,
     "metadata": {},
     "output_type": "execute_result"
    }
   ],
   "source": [
    "# log loss\n",
    "\n",
    "# Logistic Regression\n",
    "lr_prob = lr_model.predict_proba(X_test)\n",
    "ll_list = ['NA', round(log_loss(y_test, lr_prob), 4)]\n",
    "ll_list"
   ]
  },
  {
   "cell_type": "code",
   "execution_count": 66,
   "metadata": {},
   "outputs": [],
   "source": [
    "columns = ['Decision Tree', 'Logistic Regression']\n",
    "index = ['Jaccard', 'F1-score', 'Logloss']\n",
    "final_report = pd.DataFrame([jss_list, f1_list, ll_list], index = index, columns = columns)\n",
    "final_report = final_report.transpose()\n",
    "final_report.columns.name = 'Algorithm'"
   ]
  },
  {
   "cell_type": "code",
   "execution_count": 67,
   "metadata": {},
   "outputs": [
    {
     "data": {
      "text/html": [
       "<div>\n",
       "<style scoped>\n",
       "    .dataframe tbody tr th:only-of-type {\n",
       "        vertical-align: middle;\n",
       "    }\n",
       "\n",
       "    .dataframe tbody tr th {\n",
       "        vertical-align: top;\n",
       "    }\n",
       "\n",
       "    .dataframe thead th {\n",
       "        text-align: right;\n",
       "    }\n",
       "</style>\n",
       "<table border=\"1\" class=\"dataframe\">\n",
       "  <thead>\n",
       "    <tr style=\"text-align: right;\">\n",
       "      <th>Algorithm</th>\n",
       "      <th>Jaccard</th>\n",
       "      <th>F1-score</th>\n",
       "      <th>Logloss</th>\n",
       "    </tr>\n",
       "  </thead>\n",
       "  <tbody>\n",
       "    <tr>\n",
       "      <th>Decision Tree</th>\n",
       "      <td>0.7315</td>\n",
       "      <td>0.6834</td>\n",
       "      <td>NA</td>\n",
       "    </tr>\n",
       "    <tr>\n",
       "      <th>Logistic Regression</th>\n",
       "      <td>0.7316</td>\n",
       "      <td>0.6835</td>\n",
       "      <td>0.5352</td>\n",
       "    </tr>\n",
       "  </tbody>\n",
       "</table>\n",
       "</div>"
      ],
      "text/plain": [
       "Algorithm           Jaccard F1-score Logloss\n",
       "Decision Tree        0.7315   0.6834      NA\n",
       "Logistic Regression  0.7316   0.6835  0.5352"
      ]
     },
     "execution_count": 67,
     "metadata": {},
     "output_type": "execute_result"
    }
   ],
   "source": [
    "final_report"
   ]
  },
  {
   "cell_type": "markdown",
   "metadata": {},
   "source": [
    "### 6. Conclusions <a name=\"conclusion\"></a>"
   ]
  },
  {
   "cell_type": "markdown",
   "metadata": {},
   "source": [
    "We see that the best algorithm to make predictions, without a real test set, is logistic regression with saga solver and C = 0.001, although may be almost equivalent to decision tree model with depth equal to 8."
   ]
  },
  {
   "cell_type": "markdown",
   "metadata": {},
   "source": [
    "Yet will be evaluated if is necessary aggregating more categorical variables, like SDOT_COLCODE to only two classes and analyze performance, same question to weather conditions and light conditions."
   ]
  },
  {
   "cell_type": "markdown",
   "metadata": {},
   "source": [
    "We don't use KNN model and SVM due to long time processing of these models."
   ]
  },
  {
   "cell_type": "code",
   "execution_count": null,
   "metadata": {},
   "outputs": [],
   "source": []
  }
 ],
 "metadata": {
  "kernelspec": {
   "display_name": "Python 3",
   "language": "python",
   "name": "python3"
  },
  "language_info": {
   "codemirror_mode": {
    "name": "ipython",
    "version": 3
   },
   "file_extension": ".py",
   "mimetype": "text/x-python",
   "name": "python",
   "nbconvert_exporter": "python",
   "pygments_lexer": "ipython3",
   "version": "3.7.3"
  }
 },
 "nbformat": 4,
 "nbformat_minor": 2
}
