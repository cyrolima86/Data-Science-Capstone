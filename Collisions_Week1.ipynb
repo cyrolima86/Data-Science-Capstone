{
 "cells": [
  {
   "cell_type": "markdown",
   "metadata": {},
   "source": [
    "# Data Science Capstone - Collisions Assessment Methodology"
   ]
  },
  {
   "cell_type": "markdown",
   "metadata": {},
   "source": [
    "### 1. Introduction\n",
    "\n",
    "This notebook will describe the methodology to assess collisions data obtained from Seattle city, wich are data provided by SPD and recorded by traffic records, including all types of collisions, displayed at the intersection or mid-bloc of a segment, since 2004.\n",
    "\n",
    "The problem consists in correctly assess a driver that wants to know the probability of get involved in an accident, based on weather conditions, road conditions and the previous history of that highway/road segment, allowing him to drive more carefully or even change course if needed.\n",
    "\n",
    "The goal of this work is to analyze data in order to provide a model that will predict the severity of an accident/collision, given a number of features that will be extracted from the data. The model will classify and predict severity, so a driver can use this model to change course or drive more carefully, given that he isn't want to get involved into an accident, since the consequences can be unpredictable.\n",
    "\n"
   ]
  },
  {
   "cell_type": "markdown",
   "metadata": {},
   "source": [
    "### 2. Methodology"
   ]
  },
  {
   "cell_type": "markdown",
   "metadata": {},
   "source": [
    "Given that we know week day, weather conditions, address type, road conditions and light conditions,\n",
    "**predict**\n",
    "severity code \n",
    "of an accident, if occurs, and determines if is more prudent change course or not drive to final destination."
   ]
  },
  {
   "cell_type": "markdown",
   "metadata": {},
   "source": [
    "#### 2.1 Modelling"
   ]
  },
  {
   "cell_type": "markdown",
   "metadata": {},
   "source": [
    "We will use a logistic regression and decision tree models to compare and classify data, in order to predict severity, based upon features described earlier. \n",
    "If severity is greater then a threshold, the driver will be informed to not drive to final destination, if the severity is intermediate, the driver will be informed to change course. Otherwise, the driver may proceed to final destination."
   ]
  },
  {
   "cell_type": "markdown",
   "metadata": {},
   "source": [
    "#### 2.2 Evaluation"
   ]
  },
  {
   "cell_type": "markdown",
   "metadata": {},
   "source": [
    "We will compare the historic data and use test train split method to create a test set and a train set, in order to be able to\n",
    "correctly predict the severity, therefore, this will be a supervised learning problem."
   ]
  }
 ],
 "metadata": {
  "kernelspec": {
   "display_name": "Python 3",
   "language": "python",
   "name": "python3"
  },
  "language_info": {
   "codemirror_mode": {
    "name": "ipython",
    "version": 3
   },
   "file_extension": ".py",
   "mimetype": "text/x-python",
   "name": "python",
   "nbconvert_exporter": "python",
   "pygments_lexer": "ipython3",
   "version": "3.7.3"
  }
 },
 "nbformat": 4,
 "nbformat_minor": 2
}
